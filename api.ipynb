from openai import OpenAI

client = OpenAI()
resp = client.chat.completions.create(
    model="gpt-4o-mini",
    messages=[{"role": "user", "content": "RAG를 한 문장으로 설명해 줘"}],
    max_tokens=80,
    temperature=0.5
)
print(resp.choices[0].message.content)
